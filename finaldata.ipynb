{
  "nbformat": 4,
  "nbformat_minor": 0,
  "metadata": {
    "colab": {
      "provenance": [],
      "authorship_tag": "ABX9TyObOSktyP6QSTfOi1+CZo+Y",
      "include_colab_link": true
    },
    "kernelspec": {
      "name": "python3",
      "display_name": "Python 3"
    },
    "language_info": {
      "name": "python"
    }
  },
  "cells": [
    {
      "cell_type": "markdown",
      "metadata": {
        "id": "view-in-github",
        "colab_type": "text"
      },
      "source": [
        "<a href=\"https://colab.research.google.com/github/glentls/TOTIV-maritime/blob/main/finaldata.ipynb\" target=\"_parent\"><img src=\"https://colab.research.google.com/assets/colab-badge.svg\" alt=\"Open In Colab\"/></a>"
      ]
    },
    {
      "cell_type": "code",
      "execution_count": 1,
      "metadata": {
        "colab": {
          "base_uri": "https://localhost:8080/",
          "height": 73
        },
        "id": "sspCiNYCN3z8",
        "outputId": "3a3a0392-e7c6-43b1-b45d-31dfc92e7c7b"
      },
      "outputs": [
        {
          "output_type": "display_data",
          "data": {
            "text/plain": [
              "<IPython.core.display.HTML object>"
            ],
            "text/html": [
              "\n",
              "     <input type=\"file\" id=\"files-88947b57-c730-4822-8f40-f1fcf021cbc2\" name=\"files[]\" multiple disabled\n",
              "        style=\"border:none\" />\n",
              "     <output id=\"result-88947b57-c730-4822-8f40-f1fcf021cbc2\">\n",
              "      Upload widget is only available when the cell has been executed in the\n",
              "      current browser session. Please rerun this cell to enable.\n",
              "      </output>\n",
              "      <script>// Copyright 2017 Google LLC\n",
              "//\n",
              "// Licensed under the Apache License, Version 2.0 (the \"License\");\n",
              "// you may not use this file except in compliance with the License.\n",
              "// You may obtain a copy of the License at\n",
              "//\n",
              "//      http://www.apache.org/licenses/LICENSE-2.0\n",
              "//\n",
              "// Unless required by applicable law or agreed to in writing, software\n",
              "// distributed under the License is distributed on an \"AS IS\" BASIS,\n",
              "// WITHOUT WARRANTIES OR CONDITIONS OF ANY KIND, either express or implied.\n",
              "// See the License for the specific language governing permissions and\n",
              "// limitations under the License.\n",
              "\n",
              "/**\n",
              " * @fileoverview Helpers for google.colab Python module.\n",
              " */\n",
              "(function(scope) {\n",
              "function span(text, styleAttributes = {}) {\n",
              "  const element = document.createElement('span');\n",
              "  element.textContent = text;\n",
              "  for (const key of Object.keys(styleAttributes)) {\n",
              "    element.style[key] = styleAttributes[key];\n",
              "  }\n",
              "  return element;\n",
              "}\n",
              "\n",
              "// Max number of bytes which will be uploaded at a time.\n",
              "const MAX_PAYLOAD_SIZE = 100 * 1024;\n",
              "\n",
              "function _uploadFiles(inputId, outputId) {\n",
              "  const steps = uploadFilesStep(inputId, outputId);\n",
              "  const outputElement = document.getElementById(outputId);\n",
              "  // Cache steps on the outputElement to make it available for the next call\n",
              "  // to uploadFilesContinue from Python.\n",
              "  outputElement.steps = steps;\n",
              "\n",
              "  return _uploadFilesContinue(outputId);\n",
              "}\n",
              "\n",
              "// This is roughly an async generator (not supported in the browser yet),\n",
              "// where there are multiple asynchronous steps and the Python side is going\n",
              "// to poll for completion of each step.\n",
              "// This uses a Promise to block the python side on completion of each step,\n",
              "// then passes the result of the previous step as the input to the next step.\n",
              "function _uploadFilesContinue(outputId) {\n",
              "  const outputElement = document.getElementById(outputId);\n",
              "  const steps = outputElement.steps;\n",
              "\n",
              "  const next = steps.next(outputElement.lastPromiseValue);\n",
              "  return Promise.resolve(next.value.promise).then((value) => {\n",
              "    // Cache the last promise value to make it available to the next\n",
              "    // step of the generator.\n",
              "    outputElement.lastPromiseValue = value;\n",
              "    return next.value.response;\n",
              "  });\n",
              "}\n",
              "\n",
              "/**\n",
              " * Generator function which is called between each async step of the upload\n",
              " * process.\n",
              " * @param {string} inputId Element ID of the input file picker element.\n",
              " * @param {string} outputId Element ID of the output display.\n",
              " * @return {!Iterable<!Object>} Iterable of next steps.\n",
              " */\n",
              "function* uploadFilesStep(inputId, outputId) {\n",
              "  const inputElement = document.getElementById(inputId);\n",
              "  inputElement.disabled = false;\n",
              "\n",
              "  const outputElement = document.getElementById(outputId);\n",
              "  outputElement.innerHTML = '';\n",
              "\n",
              "  const pickedPromise = new Promise((resolve) => {\n",
              "    inputElement.addEventListener('change', (e) => {\n",
              "      resolve(e.target.files);\n",
              "    });\n",
              "  });\n",
              "\n",
              "  const cancel = document.createElement('button');\n",
              "  inputElement.parentElement.appendChild(cancel);\n",
              "  cancel.textContent = 'Cancel upload';\n",
              "  const cancelPromise = new Promise((resolve) => {\n",
              "    cancel.onclick = () => {\n",
              "      resolve(null);\n",
              "    };\n",
              "  });\n",
              "\n",
              "  // Wait for the user to pick the files.\n",
              "  const files = yield {\n",
              "    promise: Promise.race([pickedPromise, cancelPromise]),\n",
              "    response: {\n",
              "      action: 'starting',\n",
              "    }\n",
              "  };\n",
              "\n",
              "  cancel.remove();\n",
              "\n",
              "  // Disable the input element since further picks are not allowed.\n",
              "  inputElement.disabled = true;\n",
              "\n",
              "  if (!files) {\n",
              "    return {\n",
              "      response: {\n",
              "        action: 'complete',\n",
              "      }\n",
              "    };\n",
              "  }\n",
              "\n",
              "  for (const file of files) {\n",
              "    const li = document.createElement('li');\n",
              "    li.append(span(file.name, {fontWeight: 'bold'}));\n",
              "    li.append(span(\n",
              "        `(${file.type || 'n/a'}) - ${file.size} bytes, ` +\n",
              "        `last modified: ${\n",
              "            file.lastModifiedDate ? file.lastModifiedDate.toLocaleDateString() :\n",
              "                                    'n/a'} - `));\n",
              "    const percent = span('0% done');\n",
              "    li.appendChild(percent);\n",
              "\n",
              "    outputElement.appendChild(li);\n",
              "\n",
              "    const fileDataPromise = new Promise((resolve) => {\n",
              "      const reader = new FileReader();\n",
              "      reader.onload = (e) => {\n",
              "        resolve(e.target.result);\n",
              "      };\n",
              "      reader.readAsArrayBuffer(file);\n",
              "    });\n",
              "    // Wait for the data to be ready.\n",
              "    let fileData = yield {\n",
              "      promise: fileDataPromise,\n",
              "      response: {\n",
              "        action: 'continue',\n",
              "      }\n",
              "    };\n",
              "\n",
              "    // Use a chunked sending to avoid message size limits. See b/62115660.\n",
              "    let position = 0;\n",
              "    do {\n",
              "      const length = Math.min(fileData.byteLength - position, MAX_PAYLOAD_SIZE);\n",
              "      const chunk = new Uint8Array(fileData, position, length);\n",
              "      position += length;\n",
              "\n",
              "      const base64 = btoa(String.fromCharCode.apply(null, chunk));\n",
              "      yield {\n",
              "        response: {\n",
              "          action: 'append',\n",
              "          file: file.name,\n",
              "          data: base64,\n",
              "        },\n",
              "      };\n",
              "\n",
              "      let percentDone = fileData.byteLength === 0 ?\n",
              "          100 :\n",
              "          Math.round((position / fileData.byteLength) * 100);\n",
              "      percent.textContent = `${percentDone}% done`;\n",
              "\n",
              "    } while (position < fileData.byteLength);\n",
              "  }\n",
              "\n",
              "  // All done.\n",
              "  yield {\n",
              "    response: {\n",
              "      action: 'complete',\n",
              "    }\n",
              "  };\n",
              "}\n",
              "\n",
              "scope.google = scope.google || {};\n",
              "scope.google.colab = scope.google.colab || {};\n",
              "scope.google.colab._files = {\n",
              "  _uploadFiles,\n",
              "  _uploadFilesContinue,\n",
              "};\n",
              "})(self);\n",
              "</script> "
            ]
          },
          "metadata": {}
        },
        {
          "output_type": "stream",
          "name": "stdout",
          "text": [
            "Saving psc_severity_train.csv to psc_severity_train.csv\n"
          ]
        }
      ],
      "source": [
        "from google.colab import files\n",
        "uploaded = files.upload()"
      ]
    },
    {
      "cell_type": "code",
      "source": [
        "import pandas as pd\n"
      ],
      "metadata": {
        "id": "-oMlMkq7Rpct"
      },
      "execution_count": 2,
      "outputs": []
    },
    {
      "cell_type": "code",
      "source": [
        "import pandas as pd\n",
        "import io\n",
        "\n",
        "# Replace 'your_file.csv' with the uploaded file name\n",
        "df = pd.read_csv(io.BytesIO(uploaded['psc_severity_train.csv']))\n",
        "print(df.head())\n"
      ],
      "metadata": {
        "colab": {
          "base_uri": "https://localhost:8080/"
        },
        "id": "SCi0Ae18Rv8_",
        "outputId": "15fb39b4-3c8e-404c-dd82-c5e0b5e162cc"
      },
      "execution_count": 15,
      "outputs": [
        {
          "output_type": "stream",
          "name": "stdout",
          "text": [
            "   PscInspectionId  deficiency_code  annotation_id username  \\\n",
            "0          1702496             1104       42180251   mihail   \n",
            "1          1702496             1104       42532116     marc   \n",
            "2          1702496             1104       42631723     raul   \n",
            "3          1795901            10135       42190695   mihail   \n",
            "4          1795901            10135       42851742     raul   \n",
            "\n",
            "  annotation_severity                                           def_text  \\\n",
            "0                 Low  PscInspectionId: 1702496\\n\\nDeficiency/Finding...   \n",
            "1                High  PscInspectionId: 1702496\\n\\nDeficiency/Finding...   \n",
            "2                High  PscInspectionId: 1702496\\n\\nDeficiency/Finding...   \n",
            "3              Medium  PscInspectionId: 1795901\\n\\nDeficiency/Finding...   \n",
            "4              Medium  PscInspectionId: 1795901\\n\\nDeficiency/Finding...   \n",
            "\n",
            "  InspectionDate  VesselId  PscAuthorityId   PortId VesselGroup        age  \n",
            "0     2023-04-24    141884               7     2028    Chemical  20.813142  \n",
            "1     2023-04-24    141884               7     2028    Chemical  20.813142  \n",
            "2     2023-04-24    141884               7     2028    Chemical  20.813142  \n",
            "3     2024-03-11    292540               9  1000736    Dry Bulk  11.523614  \n",
            "4     2024-03-11    292540               9  1000736    Dry Bulk  11.523614  \n"
          ]
        }
      ]
    },
    {
      "cell_type": "code",
      "source": [
        "# Add a row number within each deficiency_code group to represent SME order\n",
        "df['SME'] = df.groupby('deficiency_code').cumcount() + 1\n",
        "\n",
        "# Pivot the table to arrange SME severities into separate columns\n",
        "df_pivot = df.pivot(index='deficiency_code', columns='SME', values='annotation_severity').reset_index()\n",
        "\n",
        "# Get the current column names of df_pivot\n",
        "current_columns = df_pivot.columns.tolist()\n",
        "\n",
        "# Modify the current column names as needed\n",
        "# For example, you can replace the first column name with 'Deficiency Code'\n",
        "# and rename other columns based on your desired format\n",
        "current_columns[0] = 'Deficiency Code'\n",
        "# Rename other columns as needed, e.g., current_columns[1] = 'SME 1 Severity', etc.\n",
        "\n",
        "# Assign the modified column names back to df_pivot\n",
        "df_pivot.columns = current_columns\n",
        "\n",
        "# ... (rest of your code)"
      ],
      "metadata": {
        "id": "SeaC19OITqp3"
      },
      "execution_count": 16,
      "outputs": []
    },
    {
      "cell_type": "code",
      "source": [
        "print(df_pivot)\n"
      ],
      "metadata": {
        "colab": {
          "base_uri": "https://localhost:8080/"
        },
        "id": "OKg7jwxmUb30",
        "outputId": "4d69f21e-7745-4b2e-c637-da073a8a47c0"
      },
      "execution_count": 17,
      "outputs": [
        {
          "output_type": "stream",
          "name": "stdout",
          "text": [
            "     Deficiency Code       1       2       3       4       5       6       7  \\\n",
            "0               1101     Low     Low     Low     Low     Low     Low     Low   \n",
            "1               1102     Low     Low     Low    High  Medium    High    High   \n",
            "2               1104     Low    High    High     Low     Low     Low  Medium   \n",
            "3               1105    High  Medium     Low    High  Medium    High    High   \n",
            "4               1106     Low    High  Medium     Low     Low     Low     Low   \n",
            "..               ...     ...     ...     ...     ...     ...     ...     ...   \n",
            "433            18432  Medium    High     Low    High  Medium  Medium    High   \n",
            "434            18499    High     Low    High  Medium  Medium  Medium    High   \n",
            "435            99101    High     Low  Medium    High    High     Low    High   \n",
            "436            99102    High     Low    High    High  Medium    High    High   \n",
            "437            99103    High    High    High     Low     Low     Low  Medium   \n",
            "\n",
            "          8     9  ...  144  145  146  147  148  149  150  151  152  153  \n",
            "0       Low   Low  ...  NaN  NaN  NaN  NaN  NaN  NaN  NaN  NaN  NaN  NaN  \n",
            "1    Medium  High  ...  NaN  NaN  NaN  NaN  NaN  NaN  NaN  NaN  NaN  NaN  \n",
            "2       Low   Low  ...  NaN  NaN  NaN  NaN  NaN  NaN  NaN  NaN  NaN  NaN  \n",
            "3       Low  High  ...  NaN  NaN  NaN  NaN  NaN  NaN  NaN  NaN  NaN  NaN  \n",
            "4       Low  High  ...  NaN  NaN  NaN  NaN  NaN  NaN  NaN  NaN  NaN  NaN  \n",
            "..      ...   ...  ...  ...  ...  ...  ...  ...  ...  ...  ...  ...  ...  \n",
            "433    High  High  ...  NaN  NaN  NaN  NaN  NaN  NaN  NaN  NaN  NaN  NaN  \n",
            "434  Medium  High  ...  NaN  NaN  NaN  NaN  NaN  NaN  NaN  NaN  NaN  NaN  \n",
            "435  Medium   Low  ...  NaN  NaN  NaN  NaN  NaN  NaN  NaN  NaN  NaN  NaN  \n",
            "436     Low   Low  ...  NaN  NaN  NaN  NaN  NaN  NaN  NaN  NaN  NaN  NaN  \n",
            "437  Medium  High  ...  NaN  NaN  NaN  NaN  NaN  NaN  NaN  NaN  NaN  NaN  \n",
            "\n",
            "[438 rows x 154 columns]\n"
          ]
        }
      ]
    },
    {
      "cell_type": "code",
      "source": [
        "# Save the dataset to a CSV file\n",
        "df_pivot.to_csv('processed_dataset.csv', index=False)\n",
        "# Download the file to your local machine\n",
        "from google.colab import files\n",
        "files.download('processed_dataset.csv')"
      ],
      "metadata": {
        "colab": {
          "base_uri": "https://localhost:8080/",
          "height": 17
        },
        "id": "FLipm1s-WrLV",
        "outputId": "7a50f0ff-0aef-41a6-e24a-62b10b6accb4"
      },
      "execution_count": 20,
      "outputs": [
        {
          "output_type": "display_data",
          "data": {
            "text/plain": [
              "<IPython.core.display.Javascript object>"
            ],
            "application/javascript": [
              "\n",
              "    async function download(id, filename, size) {\n",
              "      if (!google.colab.kernel.accessAllowed) {\n",
              "        return;\n",
              "      }\n",
              "      const div = document.createElement('div');\n",
              "      const label = document.createElement('label');\n",
              "      label.textContent = `Downloading \"${filename}\": `;\n",
              "      div.appendChild(label);\n",
              "      const progress = document.createElement('progress');\n",
              "      progress.max = size;\n",
              "      div.appendChild(progress);\n",
              "      document.body.appendChild(div);\n",
              "\n",
              "      const buffers = [];\n",
              "      let downloaded = 0;\n",
              "\n",
              "      const channel = await google.colab.kernel.comms.open(id);\n",
              "      // Send a message to notify the kernel that we're ready.\n",
              "      channel.send({})\n",
              "\n",
              "      for await (const message of channel.messages) {\n",
              "        // Send a message to notify the kernel that we're ready.\n",
              "        channel.send({})\n",
              "        if (message.buffers) {\n",
              "          for (const buffer of message.buffers) {\n",
              "            buffers.push(buffer);\n",
              "            downloaded += buffer.byteLength;\n",
              "            progress.value = downloaded;\n",
              "          }\n",
              "        }\n",
              "      }\n",
              "      const blob = new Blob(buffers, {type: 'application/binary'});\n",
              "      const a = document.createElement('a');\n",
              "      a.href = window.URL.createObjectURL(blob);\n",
              "      a.download = filename;\n",
              "      div.appendChild(a);\n",
              "      a.click();\n",
              "      div.remove();\n",
              "    }\n",
              "  "
            ]
          },
          "metadata": {}
        },
        {
          "output_type": "display_data",
          "data": {
            "text/plain": [
              "<IPython.core.display.Javascript object>"
            ],
            "application/javascript": [
              "download(\"download_5f74903a-1a7e-4147-ac98-4153880ae4e6\", \"processed_dataset.csv\", 150592)"
            ]
          },
          "metadata": {}
        }
      ]
    },
    {
      "cell_type": "code",
      "source": [
        "# Add a row number within each deficiency_code group to represent SME order\n",
        "df['SME'] = df.groupby('deficiency_code').cumcount() + 1\n",
        "\n",
        "# Pivot the table to arrange SME severities into separate columns\n",
        "df_pivot = df.pivot(index='deficiency_code', columns='SME', values='annotation_severity').reset_index()\n",
        "\n",
        "# Get the current column names of df_pivot\n",
        "current_columns = df_pivot.columns.tolist()\n",
        "\n",
        "# Modify the current column names as needed\n",
        "current_columns[0] = 'Deficiency Code'\n",
        "# Rename SME columns, e.g., SME 1 Severity, SME 2 Severity, etc.\n",
        "current_columns[1:] = [f'SME {i} Severity' for i in range(1, len(current_columns))]\n",
        "\n",
        "# Assign the modified column names back to df_pivot\n",
        "df_pivot.columns = current_columns\n",
        "\n",
        "# Select relevant columns from the original df to add to df_pivot\n",
        "# Ensure these columns are available in df and have consistent data\n",
        "additional_columns = df[['deficiency_code', 'PscInspectionId', 'def_text', 'InspectionDate']].drop_duplicates()\n",
        "\n",
        "# Merge these columns with df_pivot based on 'deficiency_code'\n",
        "df_pivot = df_pivot.merge(additional_columns, left_on='Deficiency Code', right_on='deficiency_code', how='left')\n",
        "\n",
        "# Drop the extra 'deficiency_code' column if necessary\n",
        "df_pivot.drop('deficiency_code', axis=1, inplace=True)\n",
        "\n",
        "# Print the resulting DataFrame\n",
        "print(df_pivot)\n"
      ],
      "metadata": {
        "colab": {
          "base_uri": "https://localhost:8080/"
        },
        "id": "upZtnLC6Y7Yp",
        "outputId": "a2ede8aa-23f7-4f23-e466-c70bbc3a5488"
      },
      "execution_count": 21,
      "outputs": [
        {
          "output_type": "stream",
          "name": "stdout",
          "text": [
            "      Deficiency Code SME 1 Severity SME 2 Severity SME 3 Severity  \\\n",
            "0                1101            Low            Low            Low   \n",
            "1                1101            Low            Low            Low   \n",
            "2                1101            Low            Low            Low   \n",
            "3                1101            Low            Low            Low   \n",
            "4                1101            Low            Low            Low   \n",
            "...               ...            ...            ...            ...   \n",
            "4398            99103           High           High           High   \n",
            "4399            99103           High           High           High   \n",
            "4400            99103           High           High           High   \n",
            "4401            99103           High           High           High   \n",
            "4402            99103           High           High           High   \n",
            "\n",
            "     SME 4 Severity SME 5 Severity SME 6 Severity SME 7 Severity  \\\n",
            "0               Low            Low            Low            Low   \n",
            "1               Low            Low            Low            Low   \n",
            "2               Low            Low            Low            Low   \n",
            "3               Low            Low            Low            Low   \n",
            "4               Low            Low            Low            Low   \n",
            "...             ...            ...            ...            ...   \n",
            "4398            Low            Low            Low         Medium   \n",
            "4399            Low            Low            Low         Medium   \n",
            "4400            Low            Low            Low         Medium   \n",
            "4401            Low            Low            Low         Medium   \n",
            "4402            Low            Low            Low         Medium   \n",
            "\n",
            "     SME 8 Severity SME 9 Severity  ... SME 147 Severity SME 148 Severity  \\\n",
            "0               Low            Low  ...              NaN              NaN   \n",
            "1               Low            Low  ...              NaN              NaN   \n",
            "2               Low            Low  ...              NaN              NaN   \n",
            "3               Low            Low  ...              NaN              NaN   \n",
            "4               Low            Low  ...              NaN              NaN   \n",
            "...             ...            ...  ...              ...              ...   \n",
            "4398         Medium           High  ...              NaN              NaN   \n",
            "4399         Medium           High  ...              NaN              NaN   \n",
            "4400         Medium           High  ...              NaN              NaN   \n",
            "4401         Medium           High  ...              NaN              NaN   \n",
            "4402         Medium           High  ...              NaN              NaN   \n",
            "\n",
            "     SME 149 Severity SME 150 Severity SME 151 Severity SME 152 Severity  \\\n",
            "0                 NaN              NaN              NaN              NaN   \n",
            "1                 NaN              NaN              NaN              NaN   \n",
            "2                 NaN              NaN              NaN              NaN   \n",
            "3                 NaN              NaN              NaN              NaN   \n",
            "4                 NaN              NaN              NaN              NaN   \n",
            "...               ...              ...              ...              ...   \n",
            "4398              NaN              NaN              NaN              NaN   \n",
            "4399              NaN              NaN              NaN              NaN   \n",
            "4400              NaN              NaN              NaN              NaN   \n",
            "4401              NaN              NaN              NaN              NaN   \n",
            "4402              NaN              NaN              NaN              NaN   \n",
            "\n",
            "     SME 153 Severity PscInspectionId  \\\n",
            "0                 NaN         1796369   \n",
            "1                 NaN         1695288   \n",
            "2                 NaN         1692647   \n",
            "3                 NaN         1626095   \n",
            "4                 NaN         1722223   \n",
            "...               ...             ...   \n",
            "4398              NaN         1697844   \n",
            "4399              NaN         1771775   \n",
            "4400              NaN         1745586   \n",
            "4401              NaN         1659555   \n",
            "4402              NaN         1650030   \n",
            "\n",
            "                                               def_text InspectionDate  \n",
            "0     PscInspectionId: 1796369\\n\\nDeficiency/Finding...     2024-03-12  \n",
            "1     PscInspectionId: 1695288\\n\\nDeficiency/Finding...     2023-03-27  \n",
            "2     PscInspectionId: 1692647\\n\\nDeficiency/Finding...     2023-03-19  \n",
            "3     PscInspectionId: 1626095\\n\\nDeficiency/Finding...     2022-07-21  \n",
            "4     PscInspectionId: 1722223\\n\\nDeficiency/Finding...     2023-06-27  \n",
            "...                                                 ...            ...  \n",
            "4398  PscInspectionId: 1697844\\n\\nDeficiency/Finding...     2023-04-04  \n",
            "4399  PscInspectionId: 1771775\\n\\nDeficiency/Finding...     2023-12-14  \n",
            "4400  PscInspectionId: 1745586\\n\\nDeficiency/Finding...     2023-09-13  \n",
            "4401  PscInspectionId: 1659555\\n\\nDeficiency/Finding...     2022-11-02  \n",
            "4402  PscInspectionId: 1650030\\n\\nDeficiency/Finding...     2022-10-14  \n",
            "\n",
            "[4403 rows x 157 columns]\n"
          ]
        }
      ]
    },
    {
      "cell_type": "code",
      "source": [
        "print(df_pivot.head())"
      ],
      "metadata": {
        "colab": {
          "base_uri": "https://localhost:8080/"
        },
        "id": "3muEfz7kZAfG",
        "outputId": "9937ca24-df8e-42a9-fc07-b5fc674c6b83"
      },
      "execution_count": 22,
      "outputs": [
        {
          "output_type": "stream",
          "name": "stdout",
          "text": [
            "   Deficiency Code SME 1 Severity SME 2 Severity SME 3 Severity  \\\n",
            "0             1101            Low            Low            Low   \n",
            "1             1101            Low            Low            Low   \n",
            "2             1101            Low            Low            Low   \n",
            "3             1101            Low            Low            Low   \n",
            "4             1101            Low            Low            Low   \n",
            "\n",
            "  SME 4 Severity SME 5 Severity SME 6 Severity SME 7 Severity SME 8 Severity  \\\n",
            "0            Low            Low            Low            Low            Low   \n",
            "1            Low            Low            Low            Low            Low   \n",
            "2            Low            Low            Low            Low            Low   \n",
            "3            Low            Low            Low            Low            Low   \n",
            "4            Low            Low            Low            Low            Low   \n",
            "\n",
            "  SME 9 Severity  ... SME 147 Severity SME 148 Severity SME 149 Severity  \\\n",
            "0            Low  ...              NaN              NaN              NaN   \n",
            "1            Low  ...              NaN              NaN              NaN   \n",
            "2            Low  ...              NaN              NaN              NaN   \n",
            "3            Low  ...              NaN              NaN              NaN   \n",
            "4            Low  ...              NaN              NaN              NaN   \n",
            "\n",
            "  SME 150 Severity SME 151 Severity SME 152 Severity SME 153 Severity  \\\n",
            "0              NaN              NaN              NaN              NaN   \n",
            "1              NaN              NaN              NaN              NaN   \n",
            "2              NaN              NaN              NaN              NaN   \n",
            "3              NaN              NaN              NaN              NaN   \n",
            "4              NaN              NaN              NaN              NaN   \n",
            "\n",
            "  PscInspectionId                                           def_text  \\\n",
            "0         1796369  PscInspectionId: 1796369\\n\\nDeficiency/Finding...   \n",
            "1         1695288  PscInspectionId: 1695288\\n\\nDeficiency/Finding...   \n",
            "2         1692647  PscInspectionId: 1692647\\n\\nDeficiency/Finding...   \n",
            "3         1626095  PscInspectionId: 1626095\\n\\nDeficiency/Finding...   \n",
            "4         1722223  PscInspectionId: 1722223\\n\\nDeficiency/Finding...   \n",
            "\n",
            "  InspectionDate  \n",
            "0     2024-03-12  \n",
            "1     2023-03-27  \n",
            "2     2023-03-19  \n",
            "3     2022-07-21  \n",
            "4     2023-06-27  \n",
            "\n",
            "[5 rows x 157 columns]\n"
          ]
        }
      ]
    },
    {
      "cell_type": "code",
      "source": [
        "print(df['def_text'].head(10))"
      ],
      "metadata": {
        "colab": {
          "base_uri": "https://localhost:8080/"
        },
        "id": "58_X51YWZUD2",
        "outputId": "aaaae164-e2a0-4e44-9945-366f43f4c94f"
      },
      "execution_count": 23,
      "outputs": [
        {
          "output_type": "stream",
          "name": "stdout",
          "text": [
            "0    PscInspectionId: 1702496\\n\\nDeficiency/Finding...\n",
            "1    PscInspectionId: 1702496\\n\\nDeficiency/Finding...\n",
            "2    PscInspectionId: 1702496\\n\\nDeficiency/Finding...\n",
            "3    PscInspectionId: 1795901\\n\\nDeficiency/Finding...\n",
            "4    PscInspectionId: 1795901\\n\\nDeficiency/Finding...\n",
            "5    PscInspectionId: 1795901\\n\\nDeficiency/Finding...\n",
            "6    PscInspectionId: 1667488\\n\\nDeficiency/Finding...\n",
            "7    PscInspectionId: 1667488\\n\\nDeficiency/Finding...\n",
            "8    PscInspectionId: 1667488\\n\\nDeficiency/Finding...\n",
            "9    PscInspectionId: 1733202\\n\\nDeficiency/Finding...\n",
            "Name: def_text, dtype: object\n"
          ]
        }
      ]
    },
    {
      "cell_type": "code",
      "source": [
        "# Save the dataset to a CSV file\n",
        "df_pivot.to_csv('processed2_dataset.csv', index=False)\n",
        "# Download the file to your local machine\n",
        "from google.colab import files\n",
        "files.download('processed2_dataset.csv')"
      ],
      "metadata": {
        "colab": {
          "base_uri": "https://localhost:8080/",
          "height": 17
        },
        "id": "Ol-O_2OnZqh4",
        "outputId": "f99b034b-7748-4e2d-a371-cd1dd10672a6"
      },
      "execution_count": 24,
      "outputs": [
        {
          "output_type": "display_data",
          "data": {
            "text/plain": [
              "<IPython.core.display.Javascript object>"
            ],
            "application/javascript": [
              "\n",
              "    async function download(id, filename, size) {\n",
              "      if (!google.colab.kernel.accessAllowed) {\n",
              "        return;\n",
              "      }\n",
              "      const div = document.createElement('div');\n",
              "      const label = document.createElement('label');\n",
              "      label.textContent = `Downloading \"${filename}\": `;\n",
              "      div.appendChild(label);\n",
              "      const progress = document.createElement('progress');\n",
              "      progress.max = size;\n",
              "      div.appendChild(progress);\n",
              "      document.body.appendChild(div);\n",
              "\n",
              "      const buffers = [];\n",
              "      let downloaded = 0;\n",
              "\n",
              "      const channel = await google.colab.kernel.comms.open(id);\n",
              "      // Send a message to notify the kernel that we're ready.\n",
              "      channel.send({})\n",
              "\n",
              "      for await (const message of channel.messages) {\n",
              "        // Send a message to notify the kernel that we're ready.\n",
              "        channel.send({})\n",
              "        if (message.buffers) {\n",
              "          for (const buffer of message.buffers) {\n",
              "            buffers.push(buffer);\n",
              "            downloaded += buffer.byteLength;\n",
              "            progress.value = downloaded;\n",
              "          }\n",
              "        }\n",
              "      }\n",
              "      const blob = new Blob(buffers, {type: 'application/binary'});\n",
              "      const a = document.createElement('a');\n",
              "      a.href = window.URL.createObjectURL(blob);\n",
              "      a.download = filename;\n",
              "      div.appendChild(a);\n",
              "      a.click();\n",
              "      div.remove();\n",
              "    }\n",
              "  "
            ]
          },
          "metadata": {}
        },
        {
          "output_type": "display_data",
          "data": {
            "text/plain": [
              "<IPython.core.display.Javascript object>"
            ],
            "application/javascript": [
              "download(\"download_62294c35-b1c6-4cc2-835e-3edb28803078\", \"processed2_dataset.csv\", 7131383)"
            ]
          },
          "metadata": {}
        }
      ]
    },
    {
      "cell_type": "code",
      "source": [
        "# Add a row number within each deficiency_code group to represent SME order\n",
        "df['SME'] = df.groupby('deficiency_code').cumcount() + 1\n",
        "\n",
        "# Pivot the table to arrange SME severities into separate columns\n",
        "df_pivot = df.pivot(index='deficiency_code', columns='SME', values='annotation_severity').reset_index()\n",
        "\n",
        "# Get the current column names of df_pivot\n",
        "current_columns = df_pivot.columns.tolist()\n",
        "\n",
        "# Modify the current column names as needed\n",
        "current_columns[0] = 'Deficiency Code'\n",
        "# Rename SME columns, e.g., SME 1 Severity, SME 2 Severity, etc.\n",
        "current_columns[1:] = [f'SME {i} Severity' for i in range(1, len(current_columns))]\n",
        "\n",
        "# Assign the modified column names back to df_pivot\n",
        "df_pivot.columns = current_columns\n",
        "\n",
        "# Select relevant columns from the original df to add to df_pivot\n",
        "# Ensure these columns are available in df and have consistent data\n",
        "additional_columns = df[['deficiency_code', 'PscInspectionId', 'def_text', 'InspectionDate', 'username', 'VesselId', 'PscAuthorityId', 'PortId', 'VesselGroup', 'age']].drop_duplicates()\n",
        "\n",
        "# Merge these columns with df_pivot based on 'deficiency_code'\n",
        "df_pivot = df_pivot.merge(additional_columns, left_on='Deficiency Code', right_on='deficiency_code', how='left')\n",
        "\n",
        "# Drop the extra 'deficiency_code' column if necessary\n",
        "df_pivot.drop('deficiency_code', axis=1, inplace=True)\n",
        "\n",
        "# Print the resulting DataFrame\n",
        "print(df_pivot)"
      ],
      "metadata": {
        "colab": {
          "base_uri": "https://localhost:8080/"
        },
        "id": "_v9_DXaAcLgg",
        "outputId": "05f22d18-da95-46a1-c107-bb4d205a7ed3"
      },
      "execution_count": 25,
      "outputs": [
        {
          "output_type": "stream",
          "name": "stdout",
          "text": [
            "       Deficiency Code SME 1 Severity SME 2 Severity SME 3 Severity  \\\n",
            "0                 1101            Low            Low            Low   \n",
            "1                 1101            Low            Low            Low   \n",
            "2                 1101            Low            Low            Low   \n",
            "3                 1101            Low            Low            Low   \n",
            "4                 1101            Low            Low            Low   \n",
            "...                ...            ...            ...            ...   \n",
            "17980            99103           High           High           High   \n",
            "17981            99103           High           High           High   \n",
            "17982            99103           High           High           High   \n",
            "17983            99103           High           High           High   \n",
            "17984            99103           High           High           High   \n",
            "\n",
            "      SME 4 Severity SME 5 Severity SME 6 Severity SME 7 Severity  \\\n",
            "0                Low            Low            Low            Low   \n",
            "1                Low            Low            Low            Low   \n",
            "2                Low            Low            Low            Low   \n",
            "3                Low            Low            Low            Low   \n",
            "4                Low            Low            Low            Low   \n",
            "...              ...            ...            ...            ...   \n",
            "17980            Low            Low            Low         Medium   \n",
            "17981            Low            Low            Low         Medium   \n",
            "17982            Low            Low            Low         Medium   \n",
            "17983            Low            Low            Low         Medium   \n",
            "17984            Low            Low            Low         Medium   \n",
            "\n",
            "      SME 8 Severity SME 9 Severity  ... SME 153 Severity PscInspectionId  \\\n",
            "0                Low            Low  ...              NaN         1796369   \n",
            "1                Low            Low  ...              NaN         1796369   \n",
            "2                Low            Low  ...              NaN         1796369   \n",
            "3                Low            Low  ...              NaN         1695288   \n",
            "4                Low            Low  ...              NaN         1695288   \n",
            "...              ...            ...  ...              ...             ...   \n",
            "17980         Medium           High  ...              NaN         1659555   \n",
            "17981         Medium           High  ...              NaN         1659555   \n",
            "17982         Medium           High  ...              NaN         1650030   \n",
            "17983         Medium           High  ...              NaN         1650030   \n",
            "17984         Medium           High  ...              NaN         1650030   \n",
            "\n",
            "                                                def_text InspectionDate  \\\n",
            "0      PscInspectionId: 1796369\\n\\nDeficiency/Finding...     2024-03-12   \n",
            "1      PscInspectionId: 1796369\\n\\nDeficiency/Finding...     2024-03-12   \n",
            "2      PscInspectionId: 1796369\\n\\nDeficiency/Finding...     2024-03-12   \n",
            "3      PscInspectionId: 1695288\\n\\nDeficiency/Finding...     2023-03-27   \n",
            "4      PscInspectionId: 1695288\\n\\nDeficiency/Finding...     2023-03-27   \n",
            "...                                                  ...            ...   \n",
            "17980  PscInspectionId: 1659555\\n\\nDeficiency/Finding...     2022-11-02   \n",
            "17981  PscInspectionId: 1659555\\n\\nDeficiency/Finding...     2022-11-02   \n",
            "17982  PscInspectionId: 1650030\\n\\nDeficiency/Finding...     2022-10-14   \n",
            "17983  PscInspectionId: 1650030\\n\\nDeficiency/Finding...     2022-10-14   \n",
            "17984  PscInspectionId: 1650030\\n\\nDeficiency/Finding...     2022-10-14   \n",
            "\n",
            "      username VesselId PscAuthorityId PortId VesselGroup        age  \n",
            "0       mihail   160649              6    641    Dry Bulk   8.780287  \n",
            "1         raul   160649              6    641    Dry Bulk   8.780287  \n",
            "2         marc   160649              6    641    Dry Bulk   8.780287  \n",
            "3       mihail   137819              7   4675    Dry Bulk  24.071184  \n",
            "4         raul   137819              7   4675    Dry Bulk  24.071184  \n",
            "...        ...      ...            ...    ...         ...        ...  \n",
            "17980     asit   286347              6   1630    Dry Bulk  13.086927  \n",
            "17981      man   286347              6   1630    Dry Bulk  13.086927  \n",
            "17982   ranjit   306808              1   1303    Dry Bulk   3.118412  \n",
            "17983     asit   306808              1   1303    Dry Bulk   3.118412  \n",
            "17984      man   306808              1   1303    Dry Bulk   3.118412  \n",
            "\n",
            "[17985 rows x 163 columns]\n"
          ]
        }
      ]
    },
    {
      "cell_type": "code",
      "source": [
        "# Save the dataset to a CSV file\n",
        "df_pivot.to_csv('processed3_dataset.csv', index=False)\n",
        "# Download the file to your local machine\n",
        "from google.colab import files\n",
        "files.download('processed3_dataset.csv')"
      ],
      "metadata": {
        "colab": {
          "base_uri": "https://localhost:8080/",
          "height": 17
        },
        "id": "FkQisUinct44",
        "outputId": "e9833661-c9a0-4bdc-a032-dcfd2b9e8d5b"
      },
      "execution_count": 26,
      "outputs": [
        {
          "output_type": "display_data",
          "data": {
            "text/plain": [
              "<IPython.core.display.Javascript object>"
            ],
            "application/javascript": [
              "\n",
              "    async function download(id, filename, size) {\n",
              "      if (!google.colab.kernel.accessAllowed) {\n",
              "        return;\n",
              "      }\n",
              "      const div = document.createElement('div');\n",
              "      const label = document.createElement('label');\n",
              "      label.textContent = `Downloading \"${filename}\": `;\n",
              "      div.appendChild(label);\n",
              "      const progress = document.createElement('progress');\n",
              "      progress.max = size;\n",
              "      div.appendChild(progress);\n",
              "      document.body.appendChild(div);\n",
              "\n",
              "      const buffers = [];\n",
              "      let downloaded = 0;\n",
              "\n",
              "      const channel = await google.colab.kernel.comms.open(id);\n",
              "      // Send a message to notify the kernel that we're ready.\n",
              "      channel.send({})\n",
              "\n",
              "      for await (const message of channel.messages) {\n",
              "        // Send a message to notify the kernel that we're ready.\n",
              "        channel.send({})\n",
              "        if (message.buffers) {\n",
              "          for (const buffer of message.buffers) {\n",
              "            buffers.push(buffer);\n",
              "            downloaded += buffer.byteLength;\n",
              "            progress.value = downloaded;\n",
              "          }\n",
              "        }\n",
              "      }\n",
              "      const blob = new Blob(buffers, {type: 'application/binary'});\n",
              "      const a = document.createElement('a');\n",
              "      a.href = window.URL.createObjectURL(blob);\n",
              "      a.download = filename;\n",
              "      div.appendChild(a);\n",
              "      a.click();\n",
              "      div.remove();\n",
              "    }\n",
              "  "
            ]
          },
          "metadata": {}
        },
        {
          "output_type": "display_data",
          "data": {
            "text/plain": [
              "<IPython.core.display.Javascript object>"
            ],
            "application/javascript": [
              "download(\"download_471be064-668c-47b7-a188-2b16921468f4\", \"processed3_dataset.csv\", 29782286)"
            ]
          },
          "metadata": {}
        }
      ]
    }
  ]
}